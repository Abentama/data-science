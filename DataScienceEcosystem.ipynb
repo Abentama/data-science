{
 "cells": [
  {
   "cell_type": "markdown",
   "id": "9198c2a3-e978-44d5-b482-06cec5837070",
   "metadata": {},
   "source": [
    "# Data Science Tools and Ecosystem"
   ]
  },
  {
   "cell_type": "markdown",
   "id": "625fb892-a311-4c79-9c71-c3391877be9d",
   "metadata": {},
   "source": [
    "In this notebook, Data Science Tools and Ecosystem are Summarized."
   ]
  },
  {
   "cell_type": "markdown",
   "id": "00194fbd-9e9f-42fd-b923-898e42ac6d02",
   "metadata": {},
   "source": [
    "__Objectives__\n",
    "* List popular Languages for Data Science.\n",
    "* Some of the commonly used librairies used by Data Scientists.\n",
    "* Data Science Tools.\n",
    "* Evaluating Arithmetic Expressions python."
   ]
  },
  {
   "cell_type": "markdown",
   "id": "79b0f36b-6db5-435d-8bb0-5981a8945201",
   "metadata": {},
   "source": [
    "Some of the popular languages that Data Science uses are:\n",
    "1. Python\n",
    "2. R\n",
    "3. SQL\n",
    "4. Julia\n"
   ]
  },
  {
   "cell_type": "markdown",
   "id": "1da27761-90a9-4df6-add4-6e635c597d60",
   "metadata": {},
   "source": [
    "Some of the commonly used libraries used by Data Scientists include:\n",
    "* Pandas\n",
    "* NumPy\n",
    "* Matplotlib\n",
    "* TensorFlow\n",
    "* Seaborn\n",
    "* PyTorch"
   ]
  },
  {
   "cell_type": "markdown",
   "id": "8aea22cf-d398-4fc6-9d2b-955becdb4758",
   "metadata": {},
   "source": [
    "|Data Science Tools|\n",
    "|-----------------|\n",
    "|Jupiter Notebook|\n",
    "|RStudio|\n",
    "|Google colab|"
   ]
  },
  {
   "cell_type": "markdown",
   "id": "06de572c-0a04-4c2f-a023-519ded56290e",
   "metadata": {},
   "source": [
    "### Beow are a few examples of evaluating arithmetic expressions in python:"
   ]
  },
  {
   "cell_type": "code",
   "execution_count": 2,
   "id": "a0b7e1e8-e388-4ca0-94ef-6349122735ff",
   "metadata": {},
   "outputs": [
    {
     "data": {
      "text/plain": [
       "17"
      ]
     },
     "execution_count": 2,
     "metadata": {},
     "output_type": "execute_result"
    }
   ],
   "source": [
    "# This is a simple rithmetic expression to multiply then add integers\n",
    "\n",
    "( 3 * 4) + 5"
   ]
  },
  {
   "cell_type": "code",
   "execution_count": 3,
   "id": "6a8d2d6d-a6d7-4557-aac9-dd85c576008d",
   "metadata": {},
   "outputs": [
    {
     "data": {
      "text/plain": [
       "3.3333333333333335"
      ]
     },
     "execution_count": 3,
     "metadata": {},
     "output_type": "execute_result"
    }
   ],
   "source": [
    "# This will convert 200 minutes to hours by dividing by 60.\n",
    "\n",
    "200 / 60"
   ]
  },
  {
   "cell_type": "markdown",
   "id": "37e200c2-12a6-4aa6-8a05-9be4cae98bba",
   "metadata": {},
   "source": [
    "## Author\n",
    "Elvis Abentama N"
   ]
  },
  {
   "cell_type": "code",
   "execution_count": null,
   "id": "05531d2f-ba27-4671-b42f-7a9dd7c02090",
   "metadata": {},
   "outputs": [],
   "source": []
  }
 ],
 "metadata": {
  "kernelspec": {
   "display_name": "Python 3 (ipykernel)",
   "language": "python",
   "name": "python3"
  },
  "language_info": {
   "codemirror_mode": {
    "name": "ipython",
    "version": 3
   },
   "file_extension": ".py",
   "mimetype": "text/x-python",
   "name": "python",
   "nbconvert_exporter": "python",
   "pygments_lexer": "ipython3",
   "version": "3.12.8"
  }
 },
 "nbformat": 4,
 "nbformat_minor": 5
}
